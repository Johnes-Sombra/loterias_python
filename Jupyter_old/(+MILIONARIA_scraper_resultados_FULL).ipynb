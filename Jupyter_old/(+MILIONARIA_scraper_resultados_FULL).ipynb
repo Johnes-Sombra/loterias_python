{
 "cells": [
  {
   "cell_type": "code",
   "execution_count": 30,
   "id": "41aec42c",
   "metadata": {},
   "outputs": [],
   "source": [
    "# BAIXAR WEBDRIVER ATUAL E CRIAR O NAVEGADOR (CHROME)\n",
    "\n",
    "from selenium import webdriver\n",
    "from selenium.webdriver.common.by import By\n",
    "from selenium.webdriver.chrome.service import Service as ChromeService\n",
    "from webdriver_manager.chrome import ChromeDriverManager\n",
    "from selenium.webdriver import ActionChains\n",
    "from selenium.webdriver.common.keys import Keys\n",
    "import time\n",
    "\n",
    "navegador = webdriver.Chrome(service=ChromeService(ChromeDriverManager().install()))"
   ]
  },
  {
   "cell_type": "code",
   "execution_count": 31,
   "id": "5e68196a",
   "metadata": {},
   "outputs": [
    {
     "name": "stdout",
     "output_type": "stream",
     "text": [
      "##################################################\n",
      "### Concurso atual: Concurso 33 (07/01/2023) ###\n",
      "##################################################\n",
      "\n",
      "Número concurso ATUAL: 33\n",
      "Data: 07/01/2023\n"
     ]
    }
   ],
   "source": [
    "# ABRIR O SITE DA LOTERIA, E VERIFICAR QUAL O ÚLTIMO CONCURSO\n",
    "\n",
    "url = 'https://loterias.caixa.gov.br/Paginas/Mais-Milionaria.aspx'\n",
    "navegador.get(url)\n",
    "\n",
    "time.sleep(2)\n",
    "\n",
    "xpath_concurso = '//*[@id=\"wp_resultados\"]/div[1]/div/h2/span'\n",
    "concurso_atual = navegador.find_element(By.XPATH, xpath_concurso).text\n",
    "\n",
    "print('##################################################')\n",
    "print('### Concurso atual: {} ###'.format(concurso_atual))\n",
    "print('##################################################')\n",
    "print('')\n",
    "\n",
    "n_concurso_aux = concurso_atual[:-13]\n",
    "n_concurso_atual = n_concurso_aux[9:]\n",
    "print('Número concurso ATUAL: {}'.format(n_concurso_atual))\n",
    "\n",
    "data_concurso_atual = concurso_atual[-11:-1]\n",
    "#print(concurso_atual[:-13])\n",
    "print('Data: {}'.format(data_concurso_atual))"
   ]
  },
  {
   "cell_type": "code",
   "execution_count": 32,
   "id": "98e8364f",
   "metadata": {},
   "outputs": [],
   "source": [
    "# CAPTURAR OS NUMEROS, ALOCANDO EM LISTA\n",
    "\n",
    "# XPath caixa pesquisa concurso: //*[@id=\"buscaConcurso\"]\n",
    "# XPath label concurso (número e data): //*[@id=\"wp_resultados\"]/div[1]/div/h2/span\n",
    "# XPath label dezena: //*[@id=\"ulDezenas\"]/li[1]\n",
    "\n",
    "#import time\n",
    "\n",
    "c_inicial = 1\n",
    "\n",
    "lista_conc_total = []\n",
    "\n",
    "for c in range(c_inicial, (int(n_concurso_atual)+1)):\n",
    "    #print(c)\n",
    "    lista_conc = []\n",
    "    xpath_busca_concurso = '//*[@id=\"buscaConcurso\"]'\n",
    "    navegador.find_element(By.XPATH, xpath_busca_concurso).clear()\n",
    "    navegador.find_element(By.XPATH, xpath_busca_concurso).send_keys(c)\n",
    "    ActionChains(navegador).key_down(Keys.ENTER).perform()\n",
    "\n",
    "    time.sleep(1)\n",
    "\n",
    "    xpath_concurso = '//*[@id=\"wp_resultados\"]/div[1]/div/h2/span'\n",
    "    concurso = navegador.find_element(By.XPATH, xpath_concurso).text\n",
    "    #print(concurso)\n",
    "\n",
    "    #lista_conc = []\n",
    "\n",
    "    n_concurso_aux = concurso[:-13]\n",
    "    n_concurso = n_concurso_aux[9:]\n",
    "    data_concurso = concurso[-11:-1]\n",
    "\n",
    "    lista_conc.append(n_concurso.rjust(4, '0'))\n",
    "    lista_conc.append(data_concurso)\n",
    "\n",
    "    for i in range(1,7): # LOOP PARA FACILITAR A CAPTURA DAS DEZENAS 01 A 06, SEM PRECISAR UTILIZAR 6 LINHAS\n",
    "        # XPath = //*[@id=\"ulDezenas\"]/li[1]\n",
    "        xpath_n = '//*[@id=\"ulDezenas\"]/li['+str(i)+']'\n",
    "        #print(xpath_n)                             \n",
    "        n = navegador.find_element(By.XPATH, xpath_n).text\n",
    "        #print(n)\n",
    "        lista_conc.append(n)\n",
    "        \n",
    "    for i in range(1,3): # LOOP PARA FACILITAR A CAPTURA DAS DEZENAS 01 A 06, SEM PRECISAR UTILIZAR 6 LINHAS\n",
    "        # XPath = //*[@id=\"wp_resultados\"]/div[2]/div/div/p[2]/img[1]\n",
    "        xpath_t = '//*[@id=\"wp_resultados\"]/div[2]/div/div/p[2]/img['+str(i)+']'\n",
    "        #print(xpath_n)                             \n",
    "        t = navegador.find_element(By.XPATH, xpath_t).get_attribute(\"alt\")\n",
    "        #print(n)\n",
    "        lista_conc.append(t[-1])\n",
    "    \n",
    "    lista_conc_total.append(lista_conc)\n",
    "\n",
    "    #print(lista_conc)\n",
    "    #print('')\n",
    "\n",
    "# trevo\n",
    "#dados = navegador.find_element(By.XPATH, '//*[@id=\"wp_resultados\"]/div[2]/div/div/p[2]/img[1]').get_attribute(\"alt\")\n",
    "#print(dados[-1])"
   ]
  },
  {
   "cell_type": "code",
   "execution_count": 33,
   "id": "ea22a82e",
   "metadata": {},
   "outputs": [
    {
     "data": {
      "text/plain": [
       "<function TextIOWrapper.close()>"
      ]
     },
     "execution_count": 33,
     "metadata": {},
     "output_type": "execute_result"
    }
   ],
   "source": [
    "# GRAVAR EM ARQUIVO CSV\n",
    "\n",
    "nome_arquivo = '+MILIONARIA_resultados_CSV.csv'\n",
    "\n",
    "with open(nome_arquivo, 'w') as arquivo:\n",
    "\n",
    "    arquivo.write('Concurso;Data_concurso;Dezena_01;Dezena_02;Dezena_03;Dezena_04;Dezena_05;Dezena_06;Trevo_01;Trevo_02')\n",
    "    arquivo.write('\\n')\n",
    "    \n",
    "    for lista in lista_conc_total:\n",
    "            #print(lista)\n",
    "            for dados_conc in lista:\n",
    "                #print(dados_conc, end=\";\")\n",
    "                arquivo.write(str(dados_conc))\n",
    "                arquivo.write(';')\n",
    "            #print('')\n",
    "            arquivo.write('\\n')\n",
    "arquivo.close"
   ]
  }
 ],
 "metadata": {
  "kernelspec": {
   "display_name": "Python 3",
   "language": "python",
   "name": "python3"
  },
  "language_info": {
   "codemirror_mode": {
    "name": "ipython",
    "version": 3
   },
   "file_extension": ".py",
   "mimetype": "text/x-python",
   "name": "python",
   "nbconvert_exporter": "python",
   "pygments_lexer": "ipython3",
   "version": "3.8.8"
  }
 },
 "nbformat": 4,
 "nbformat_minor": 5
}
