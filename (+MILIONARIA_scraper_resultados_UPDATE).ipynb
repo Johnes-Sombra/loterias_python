{
 "cells": [
  {
   "cell_type": "code",
   "execution_count": 1,
   "id": "7259a6d8",
   "metadata": {},
   "outputs": [],
   "source": [
    "# BAIXAR WEBDRIVER ATUAL E CRIAR O NAVEGADOR (CHROME)\n",
    "\n",
    "from selenium import webdriver\n",
    "from selenium.webdriver.common.by import By\n",
    "from selenium.webdriver.chrome.service import Service as ChromeService\n",
    "from webdriver_manager.chrome import ChromeDriverManager\n",
    "from selenium.webdriver import ActionChains\n",
    "from selenium.webdriver.common.keys import Keys\n",
    "import time\n",
    "\n",
    "navegador = webdriver.Chrome(service=ChromeService(ChromeDriverManager().install()))"
   ]
  },
  {
   "cell_type": "code",
   "execution_count": 2,
   "id": "769479d3",
   "metadata": {},
   "outputs": [
    {
     "name": "stdout",
     "output_type": "stream",
     "text": [
      "##################################################\n",
      "### Concurso atual: Concurso 39 (18/02/2023) ###\n",
      "##################################################\n",
      "\n",
      "Número concurso ATUAL: 39\n",
      "Data: 18/02/2023\n"
     ]
    }
   ],
   "source": [
    "# ABRIR O SITE DA LOTERIA, E VERIFICAR QUAL O ÚLTIMO CONCURSO\n",
    "\n",
    "url = 'https://loterias.caixa.gov.br/Paginas/Mais-Milionaria.aspx'\n",
    "navegador.get(url)\n",
    "\n",
    "time.sleep(2)\n",
    "\n",
    "xpath_concurso = '//*[@id=\"wp_resultados\"]/div[1]/div/h2/span'\n",
    "concurso_atual = navegador.find_element(By.XPATH, xpath_concurso).text\n",
    "\n",
    "print('##################################################')\n",
    "print('### Concurso atual: {} ###'.format(concurso_atual))\n",
    "print('##################################################')\n",
    "print('')\n",
    "\n",
    "n_concurso_aux = concurso_atual[:-13]\n",
    "n_concurso_atual = n_concurso_aux[9:]\n",
    "print('Número concurso ATUAL: {}'.format(n_concurso_atual))\n",
    "\n",
    "data_concurso_atual = concurso_atual[-11:-1]\n",
    "#print(concurso_atual[:-13])\n",
    "print('Data: {}'.format(data_concurso_atual))"
   ]
  },
  {
   "cell_type": "code",
   "execution_count": 3,
   "id": "40b0e8ed",
   "metadata": {},
   "outputs": [
    {
     "name": "stdout",
     "output_type": "stream",
     "text": [
      "Número último concurso no arquivo: 33\n"
     ]
    }
   ],
   "source": [
    "# ABRIR O ARQUIVO CSV, VERIFICAR O ULTIMO CONCURSO, E CAPTURAR OS NUMEROS ALOCANDO EM LISTA\n",
    "\n",
    "# XPath caixa pesquisa concurso: //*[@id=\"buscaConcurso\"]\n",
    "# XPath label concurso (número e data): //*[@id=\"wp_resultados\"]/div[1]/div/h2/span\n",
    "# XPath label dezena: //*[@id=\"ulDezenas\"]/li[1]\n",
    "\n",
    "nome_arquivo = '+MILIONARIA_resultados_CSV.csv'\n",
    "\n",
    "with open(nome_arquivo, 'r') as arquivo:\n",
    "    lista_atual_arq = arquivo.readlines()\n",
    "arquivo.close    \n",
    "\n",
    "tamanho_lista_atual_arq = len(lista_atual_arq)-1\n",
    "num_ultimo_concurso_atual_arq = int((lista_atual_arq[tamanho_lista_atual_arq][0:4]))\n",
    "\n",
    "#print(tamanho_lista_atual_arq)\n",
    "#print(num_ultimo_concurso_atual_arq)\n",
    "#print((lista_atual_arq[tamanho_lista_atual_arq][0:4]))\n",
    "\n",
    "# CAPTURAR OS NUMEROS, ALOCANDO EM LISTA\n",
    "\n",
    "# XPath caixa pesquisa concurso: //*[@id=\"buscaConcurso\"]\n",
    "# XPath label concurso (número e data): //*[@id=\"wp_resultados\"]/div[1]/div/h2/span\n",
    "# XPath label dezena: //*[@id=\"ulDezenas\"]/li[1]\n",
    "\n",
    "#import time\n",
    "\n",
    "c_inicial = int(num_ultimo_concurso_atual_arq+1)\n",
    "\n",
    "lista_conc_total = []\n",
    "\n",
    "for c in range(c_inicial, (int(n_concurso_atual)+1)):\n",
    "    #print(c)\n",
    "    lista_conc = []\n",
    "    xpath_busca_concurso = '//*[@id=\"buscaConcurso\"]'\n",
    "    navegador.find_element(By.XPATH, xpath_busca_concurso).clear()\n",
    "    navegador.find_element(By.XPATH, xpath_busca_concurso).send_keys(c)\n",
    "    ActionChains(navegador).key_down(Keys.ENTER).perform()\n",
    "\n",
    "    time.sleep(1)\n",
    "\n",
    "    xpath_concurso = '//*[@id=\"wp_resultados\"]/div[1]/div/h2/span'\n",
    "    concurso = navegador.find_element(By.XPATH, xpath_concurso).text\n",
    "    #print(concurso)\n",
    "\n",
    "    #lista_conc = []\n",
    "\n",
    "    n_concurso_aux = concurso[:-13]\n",
    "    n_concurso = n_concurso_aux[9:]\n",
    "    data_concurso = concurso[-11:-1]\n",
    "\n",
    "    lista_conc.append(n_concurso.rjust(4, '0'))\n",
    "    lista_conc.append(data_concurso)\n",
    "\n",
    "    for i in range(1,7): # LOOP PARA FACILITAR A CAPTURA DAS DEZENAS 01 A 06, SEM PRECISAR UTILIZAR 6 LINHAS\n",
    "        # XPath = //*[@id=\"ulDezenas\"]/li[1]\n",
    "        xpath_n = '//*[@id=\"ulDezenas\"]/li['+str(i)+']'\n",
    "        #print(xpath_n)                             \n",
    "        n = navegador.find_element(By.XPATH, xpath_n).text\n",
    "        #print(n)\n",
    "        lista_conc.append(n)\n",
    "        \n",
    "    for i in range(1,3): # LOOP PARA FACILITAR A CAPTURA DAS DEZENAS 01 A 06, SEM PRECISAR UTILIZAR 6 LINHAS\n",
    "        # XPath = //*[@id=\"wp_resultados\"]/div[2]/div/div/p[2]/img[1]\n",
    "        xpath_t = '//*[@id=\"wp_resultados\"]/div[2]/div/div/p[2]/img['+str(i)+']'\n",
    "        #print(xpath_n)                             \n",
    "        t = navegador.find_element(By.XPATH, xpath_t).get_attribute(\"alt\")\n",
    "        #print(n)\n",
    "        lista_conc.append(t[-1])\n",
    "    \n",
    "    lista_conc_total.append(lista_conc)\n",
    "\n",
    "print('Número último concurso no arquivo: {}'.format(num_ultimo_concurso_atual_arq))\n"
   ]
  },
  {
   "cell_type": "code",
   "execution_count": 4,
   "id": "45be6b32",
   "metadata": {},
   "outputs": [
    {
     "data": {
      "text/plain": [
       "<function TextIOWrapper.close()>"
      ]
     },
     "execution_count": 4,
     "metadata": {},
     "output_type": "execute_result"
    }
   ],
   "source": [
    "# ABRIR ARQUIVO CSV E GRAVAR\n",
    "\n",
    "nome_arquivo = '+MILIONARIA_resultados_CSV.csv'\n",
    "\n",
    "with open(nome_arquivo, 'a') as arquivo:\n",
    "\n",
    "    for lista in lista_conc_total:\n",
    "            #print(lista)\n",
    "            for dados_conc in lista:\n",
    "                #print(dados_conc, end=\";\")\n",
    "                arquivo.write(str(dados_conc))\n",
    "                arquivo.write(';')\n",
    "            #print('')\n",
    "            arquivo.write('\\n')\n",
    "arquivo.close"
   ]
  },
  {
   "cell_type": "code",
   "execution_count": 5,
   "id": "baefa4ea",
   "metadata": {},
   "outputs": [
    {
     "name": "stdout",
     "output_type": "stream",
     "text": [
      "Número concurso ATUAL.......................: 39\n",
      "Número último concurso no arquivo...........: 33\n",
      "Número último concurso ATUALIZADO no arquivo: 39\n"
     ]
    }
   ],
   "source": [
    "print('Número concurso ATUAL.......................: {}'.format(n_concurso_atual))\n",
    "print('Número último concurso no arquivo...........: {}'.format(num_ultimo_concurso_atual_arq))\n",
    "\n",
    "with open(nome_arquivo, 'r') as arquivo:\n",
    "    lista_atual_arq_atualizada = arquivo.readlines()\n",
    "arquivo.close    \n",
    "\n",
    "tamanho_lista_atual_arq_atualizada = len(lista_atual_arq_atualizada)-1\n",
    "num_ultimo_concurso_atual_arq_atualizado = int((lista_atual_arq_atualizada[tamanho_lista_atual_arq_atualizada][0:4]))\n",
    "\n",
    "print('Número último concurso ATUALIZADO no arquivo: {}'.format(num_ultimo_concurso_atual_arq_atualizado))"
   ]
  }
 ],
 "metadata": {
  "kernelspec": {
   "display_name": "Python 3",
   "language": "python",
   "name": "python3"
  },
  "language_info": {
   "codemirror_mode": {
    "name": "ipython",
    "version": 3
   },
   "file_extension": ".py",
   "mimetype": "text/x-python",
   "name": "python",
   "nbconvert_exporter": "python",
   "pygments_lexer": "ipython3",
   "version": "3.8.8"
  }
 },
 "nbformat": 4,
 "nbformat_minor": 5
}
