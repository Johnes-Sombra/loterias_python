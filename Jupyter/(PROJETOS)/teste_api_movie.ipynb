{
 "cells": [
  {
   "cell_type": "code",
   "execution_count": 7,
   "id": "9dceaf8b",
   "metadata": {},
   "outputs": [
    {
     "name": "stdout",
     "output_type": "stream",
     "text": [
      "{\"results\":[{\"imdbID\":\"tt0117913\",\"tmdbID\":\"1645\",\"imdbRating\":74,\"imdbVoteCount\":154213,\"tmdbRating\":74,\"backdropPath\":\"/7As88HqxdHKEFtykgvd4X3gh7Am.jpg\",\"backdropURLs\":{\"1280\":\"https://image.tmdb.org/t/p/w1280/7As88HqxdHKEFtykgvd4X3gh7Am.jpg\",\"300\":\"https://image.tmdb.org/t/p/w300/7As88HqxdHKEFtykgvd4X3gh7Am.jpg\",\"780\":\"https://image.tmdb.org/t/p/w780/7As88HqxdHKEFtykgvd4X3gh7Am.jpg\",\"original\":\"https://image.tmdb.org/t/p/original/7As88HqxdHKEFtykgvd4X3gh7Am.jpg\"},\"originalTitle\":\"A Time to Kill\",\"genres\":[80,18,53],\"countries\":[\"US\"],\"year\":1996,\"runtime\":149,\"cast\":[\"Matthew McConaughey\",\"Sandra Bullock\",\"Samuel L. Jackson\",\"Kevin Spacey\",\"Ashley Judd\",\"Donald Sutherland\",\"Oliver Platt\"],\"significants\":[\"Joel Schumacher\"],\"title\":\"A Time to Kill\",\"overview\":\"A young lawyer defends a black man accused of murdering two white men who raped his 10-year-old daughter, sparking a rebirth of the KKK.\",\"tagline\":\"Experience a time you'll never forget.\",\"video\":\"jE3hXfUtrIE\",\"posterPath\":\"/apUSR9WE7lMATBGYhzZ8RnPDYsK.jpg\",\"posterURLs\":{\"154\":\"https://image.tmdb.org/t/p/w154/apUSR9WE7lMATBGYhzZ8RnPDYsK.jpg\",\"185\":\"https://image.tmdb.org/t/p/w185/apUSR9WE7lMATBGYhzZ8RnPDYsK.jpg\",\"342\":\"https://image.tmdb.org/t/p/w342/apUSR9WE7lMATBGYhzZ8RnPDYsK.jpg\",\"500\":\"https://image.tmdb.org/t/p/w500/apUSR9WE7lMATBGYhzZ8RnPDYsK.jpg\",\"780\":\"https://image.tmdb.org/t/p/w780/apUSR9WE7lMATBGYhzZ8RnPDYsK.jpg\",\"92\":\"https://image.tmdb.org/t/p/w92/apUSR9WE7lMATBGYhzZ8RnPDYsK.jpg\",\"original\":\"https://image.tmdb.org/t/p/original/apUSR9WE7lMATBGYhzZ8RnPDYsK.jpg\"},\"age\":14,\"streamingInfo\":{\"hbo\":{\"br\":{\"link\":\"https://play.hbomax.com/page/urn:hbo:page:GXjtShwEHhMPDwwEAAAh1:type:feature\",\"added\":1641772664,\"leaving\":1651377540}},\"prime\":{\"br\":{\"link\":\"https://www.primevideo.com/detail/0OSCD5YBR4R4UVN2CPYFYV6RTI/\",\"added\":1619023593,\"leaving\":0}}},\"originalLanguage\":\"en\"},{\"imdbID\":\"tt0361748\",\"tmdbID\":\"16869\",\"imdbRating\":83,\"imdbVoteCount\":1389320,\"tmdbRating\":82,\"backdropPath\":\"/yVPcPk96E6Qffiyez2oJc7OKD2A.jpg\",\"backdropURLs\":{\"1280\":\"https://image.tmdb.org/t/p/w1280/yVPcPk96E6Qffiyez2oJc7OKD2A.jpg\",\"300\":\"https://image.tmdb.org/t/p/w300/yVPcPk96E6Qffiyez2oJc7OKD2A.jpg\",\"780\":\"https://image.tmdb.org/t/p/w780/yVPcPk96E6Qffiyez2oJc7OKD2A.jpg\",\"original\":\"https://image.tmdb.org/t/p/original/yVPcPk96E6Qffiyez2oJc7OKD2A.jpg\"},\"originalTitle\":\"Inglourious Basterds\",\"genres\":[12,18,10752],\"countries\":[\"DE\",\"US\"],\"year\":2009,\"runtime\":153,\"cast\":[\"Brad Pitt\",\"Mélanie Laurent\",\"Christoph Waltz\",\"Eli Roth\",\"Michael Fassbender\",\"Diane Kruger\",\"Daniel Brühl\"],\"significants\":[\"Quentin Tarantino\"],\"title\":\"Inglourious Basterds\",\"overview\":\"In Nazi-occupied France during World War II, a group of Jewish-American soldiers known as \\\"The Basterds\\\" are chosen specifically to spread fear throughout the Third Reich by scalping and brutally killing Nazis. The Basterds, lead by Lt. Aldo Raine soon cross paths with a French-Jewish teenage girl who runs a movie theater in Paris which is targeted by the soldiers.\",\"tagline\":\"Once upon a time in Nazi occupied France...\",\"video\":\"sE8hc4gVyGo\",\"posterPath\":\"/7sfbEnaARXDDhKm0CZ7D7uc2sbo.jpg\",\"posterURLs\":{\"154\":\"https://image.tmdb.org/t/p/w154/7sfbEnaARXDDhKm0CZ7D7uc2sbo.jpg\",\"185\":\"https://image.tmdb.org/t/p/w185/7sfbEnaARXDDhKm0CZ7D7uc2sbo.jpg\",\"342\":\"https://image.tmdb.org/t/p/w342/7sfbEnaARXDDhKm0CZ7D7uc2sbo.jpg\",\"500\":\"https://image.tmdb.org/t/p/w500/7sfbEnaARXDDhKm0CZ7D7uc2sbo.jpg\",\"780\":\"https://image.tmdb.org/t/p/w780/7sfbEnaARXDDhKm0CZ7D7uc2sbo.jpg\",\"92\":\"https://image.tmdb.org/t/p/w92/7sfbEnaARXDDhKm0CZ7D7uc2sbo.jpg\",\"original\":\"https://image.tmdb.org/t/p/original/7sfbEnaARXDDhKm0CZ7D7uc2sbo.jpg\"},\"age\":16,\"streamingInfo\":{\"prime\":{\"br\":{\"link\":\"https://www.primevideo.com/detail/0OO2I8SGWJ128GHUY1404Z1V5P/\",\"added\":1619079841,\"leaving\":0}}},\"originalLanguage\":\"en\"},{\"imdbID\":\"tt7471884\",\"tmdbID\":\"543749\",\"imdbRating\":52,\"imdbVoteCount\":839,\"tmdbRating\":65,\"backdropPath\":\"/c26GB3r9rJtamesS5ZJBBLxtxEz.jpg\",\"backdropURLs\":{\"1280\":\"https://image.tmdb.org/t/p/w1280/c26GB3r9rJtamesS5ZJBBLxtxEz.jpg\",\"300\":\"https://image.tmdb.org/t/p/w300/c26GB3r9rJtamesS5ZJBBLxtxEz.jpg\",\"780\":\"https://image.tmdb.org/t/p/w780/c26GB3r9rJtamesS5ZJBBLxtxEz.jpg\",\"original\":\"https://image.tmdb.org/t/p/original/c26GB3r9rJtamesS5ZJBBLxtxEz.jpg\"},\"originalTitle\":\"Silencio\",\"genres\":[18,9648,53],\"countries\":[\"MX\"],\"year\":2018,\"runtime\":98,\"cast\":[\"Rupert Graves\",\"John Noble\",\"Melina Matthews\",\"Tina Romero\",\"Hoze Meléndez\",\"Michel Chauvet\",\"Shayne Coleman\"],\"significants\":[\"Lorena Villarreal\"],\"title\":\"Silencio\",\"overview\":\"In order to save her son's life, Ana embarks on a quest to find a powerful stone from the Zone of Silence in Mexico. Someone finds out the power the stone possesses and believes it is a power worth killing for.\",\"tagline\":\"The power to turn back time... is a power worth killing for.\",\"video\":\"gaZx5F-fYuM\",\"posterPath\":\"/x1hqZL8GxAByIVnnnVfxVIMTare.jpg\",\"posterURLs\":{\"154\":\"https://image.tmdb.org/t/p/w154/x1hqZL8GxAByIVnnnVfxVIMTare.jpg\",\"185\":\"https://image.tmdb.org/t/p/w185/x1hqZL8GxAByIVnnnVfxVIMTare.jpg\",\"342\":\"https://image.tmdb.org/t/p/w342/x1hqZL8GxAByIVnnnVfxVIMTare.jpg\",\"500\":\"https://image.tmdb.org/t/p/w500/x1hqZL8GxAByIVnnnVfxVIMTare.jpg\",\"780\":\"https://image.tmdb.org/t/p/w780/x1hqZL8GxAByIVnnnVfxVIMTare.jpg\",\"92\":\"https://image.tmdb.org/t/p/w92/x1hqZL8GxAByIVnnnVfxVIMTare.jpg\",\"original\":\"https://image.tmdb.org/t/p/original/x1hqZL8GxAByIVnnnVfxVIMTare.jpg\"},\"age\":15,\"streamingInfo\":{\"prime\":{\"br\":{\"link\":\"https://www.primevideo.com/detail/0R9HOY236RGGVJ3RG2O895AJNN/\",\"added\":1645470766,\"leaving\":0}}},\"originalLanguage\":\"en\"}],\"total_pages\":1}\n"
     ]
    }
   ],
   "source": [
    "import http.client\n",
    "\n",
    "conn = http.client.HTTPSConnection(\"streaming-availability.p.rapidapi.com\")\n",
    "\n",
    "headers = {\n",
    "    'X-RapidAPI-Host': \"streaming-availability.p.rapidapi.com\",\n",
    "    'X-RapidAPI-Key': \"ea9b9e7061mshc32dd8ea2f8e671p1796e4jsn11d6445b680f\"\n",
    "    }\n",
    "\n",
    "conn.request(\"GET\", \"/search/basic?country=br&service=prime&type=movie&genre=18&keyword=A%20Time%20to%20Kill&page=1&output_language=en&language=en\", headers=headers)\n",
    "\n",
    "res = conn.getresponse()\n",
    "data = res.read()\n",
    "\n",
    "print(data.decode(\"utf-8\"))"
   ]
  },
  {
   "cell_type": "code",
   "execution_count": null,
   "id": "29bc3b89",
   "metadata": {},
   "outputs": [],
   "source": []
  },
  {
   "cell_type": "code",
   "execution_count": null,
   "id": "0d739b1f",
   "metadata": {},
   "outputs": [],
   "source": []
  }
 ],
 "metadata": {
  "kernelspec": {
   "display_name": "Python 3",
   "language": "python",
   "name": "python3"
  },
  "language_info": {
   "codemirror_mode": {
    "name": "ipython",
    "version": 3
   },
   "file_extension": ".py",
   "mimetype": "text/x-python",
   "name": "python",
   "nbconvert_exporter": "python",
   "pygments_lexer": "ipython3",
   "version": "3.8.8"
  }
 },
 "nbformat": 4,
 "nbformat_minor": 5
}
