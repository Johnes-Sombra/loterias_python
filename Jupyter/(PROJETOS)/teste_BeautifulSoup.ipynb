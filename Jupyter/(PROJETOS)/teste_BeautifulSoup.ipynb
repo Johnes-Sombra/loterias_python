{
 "cells": [
  {
   "cell_type": "code",
   "execution_count": 5,
   "id": "3d3752eb",
   "metadata": {},
   "outputs": [
    {
     "name": "stdout",
     "output_type": "stream",
     "text": [
      "https://archive.org/download/tosec-main-2021-12-31/Tandy%20Radio%20Shack/#maincontent\n",
      "https://archive.org/download/tosec-main-2021-12-31/Tandy%20Radio%20Shack/https://archive.org\n",
      "https://archive.org/download/tosec-main-2021-12-31/Tandy%20Radio%20Shack/https://archive.org/create/\n",
      "https://archive.org/download/tosec-main-2021-12-31/Tandy%20Radio%20Shack/https://archive.org/account/signup\n",
      "https://archive.org/download/tosec-main-2021-12-31/Tandy%20Radio%20Shack/https://archive.org/account/login\n",
      "https://archive.org/download/tosec-main-2021-12-31/Tandy%20Radio%20Shack/https://archive.org/web/\n",
      "https://archive.org/download/tosec-main-2021-12-31/Tandy%20Radio%20Shack/https://archive.org/details/texts\n",
      "https://archive.org/download/tosec-main-2021-12-31/Tandy%20Radio%20Shack/https://archive.org/details/movies\n",
      "https://archive.org/download/tosec-main-2021-12-31/Tandy%20Radio%20Shack/https://archive.org/details/audio\n",
      "https://archive.org/download/tosec-main-2021-12-31/Tandy%20Radio%20Shack/https://archive.org/details/software\n",
      "https://archive.org/download/tosec-main-2021-12-31/Tandy%20Radio%20Shack/https://archive.org/details/image\n",
      "https://archive.org/download/tosec-main-2021-12-31/Tandy%20Radio%20Shack/https://archive.org/donate/\n",
      "https://archive.org/download/tosec-main-2021-12-31/Tandy%20Radio%20Shack/https://archive.org/about/\n",
      "https://archive.org/download/tosec-main-2021-12-31/Tandy%20Radio%20Shack/https://archive.org/about/\n",
      "https://archive.org/download/tosec-main-2021-12-31/Tandy%20Radio%20Shack/https://blog.archive.org/\n",
      "https://archive.org/download/tosec-main-2021-12-31/Tandy%20Radio%20Shack/https://archive.org/projects/\n",
      "https://archive.org/download/tosec-main-2021-12-31/Tandy%20Radio%20Shack/https://archive.org/about/faqs.php\n",
      "https://archive.org/download/tosec-main-2021-12-31/Tandy%20Radio%20Shack/https://archive.org/donate/\n",
      "https://archive.org/download/tosec-main-2021-12-31/Tandy%20Radio%20Shack/https://archive.org/about/contact.php\n",
      "https://archive.org/download/tosec-main-2021-12-31/Tandy%20Radio%20Shack/https://archive.org/about/jobs.php\n",
      "https://archive.org/download/tosec-main-2021-12-31/Tandy%20Radio%20Shack/https://archive.org/about/volunteerpositions.php\n",
      "https://archive.org/download/tosec-main-2021-12-31/Tandy%20Radio%20Shack/https://archive.org/about/bios.php\n",
      "https://archive.org/download/tosec-main-2021-12-31/Tandy%20Radio%20Shack/https://archive.org/advancedsearch.php\n",
      "https://archive.org/download/tosec-main-2021-12-31/Tandy%20Radio%20Shack/https://archive.org/account/signup\n",
      "https://archive.org/download/tosec-main-2021-12-31/Tandy%20Radio%20Shack/https://archive.org/account/login\n",
      "https://archive.org/download/tosec-main-2021-12-31/Tandy%20Radio%20Shack/../\n",
      "https://archive.org/download/tosec-main-2021-12-31/Tandy%20Radio%20Shack/TRS-80%20Color%20Computer/\n",
      "https://archive.org/download/tosec-main-2021-12-31/Tandy%20Radio%20Shack/TRS-80%20MC-10/\n",
      "https://archive.org/download/tosec-main-2021-12-31/Tandy%20Radio%20Shack/TRS-80%20Model%20100/\n",
      "https://archive.org/download/tosec-main-2021-12-31/Tandy%20Radio%20Shack/TRS-80%20Model%204/\n",
      "https://archive.org/download/tosec-main-2021-12-31/Tandy%20Radio%20Shack/TRS-80%20Model%20I/\n",
      "https://archive.org/download/tosec-main-2021-12-31/Tandy%20Radio%20Shack/TRS-80%20Model%20III/\n"
     ]
    }
   ],
   "source": [
    "from bs4 import BeautifulSoup\n",
    "import requests\n",
    "from pathlib import Path\n",
    "\n",
    "url = 'https://archive.org/download/tosec-main-2021-12-31/Tandy%20Radio%20Shack/'\n",
    "\n",
    "def listFD(url):\n",
    "    page = requests.get(url).text\n",
    "    soup = BeautifulSoup(page, 'html.parser')\n",
    "    return [url + node.get('href') for node in soup.find_all('a') if node.get('href')]\n",
    "\n",
    "def downloadFile(file):\n",
    "    r = requests.get(file)\n",
    "    path = Path(file)\n",
    "    with open(path.name, 'wb') as f:\n",
    "        f.write(r.content) \n",
    "\n",
    "for file in listFD(url):\n",
    "    #downloadFile(file)\n",
    "    print(file)"
   ]
  }
 ],
 "metadata": {
  "kernelspec": {
   "display_name": "Python 3",
   "language": "python",
   "name": "python3"
  },
  "language_info": {
   "codemirror_mode": {
    "name": "ipython",
    "version": 3
   },
   "file_extension": ".py",
   "mimetype": "text/x-python",
   "name": "python",
   "nbconvert_exporter": "python",
   "pygments_lexer": "ipython3",
   "version": "3.8.8"
  }
 },
 "nbformat": 4,
 "nbformat_minor": 5
}
