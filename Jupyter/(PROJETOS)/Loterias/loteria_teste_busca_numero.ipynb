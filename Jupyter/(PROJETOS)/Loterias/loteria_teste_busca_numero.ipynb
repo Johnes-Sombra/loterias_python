{
 "cells": [
  {
   "cell_type": "code",
   "execution_count": 1,
   "id": "14f85fb7",
   "metadata": {},
   "outputs": [
    {
     "name": "stdout",
     "output_type": "stream",
     "text": [
      "['0001', '02', '05', '22', '26', '33', '40']\n",
      "['0002', '12', '16', '34', '48', '50', '55']\n",
      "['0003', '01', '10', '12', '26', '30', '33']\n",
      "['0004', '20', '21', '26', '29', '50', '60']\n",
      "['0005', '13', '15', '22', '29', '48', '49']\n",
      "\n",
      "NÚMERO A SER PROCURADO: 12\n",
      "\n",
      "RETORNO:\n",
      "CONCURSO: 0002 (POSIÇÃO: lista[1][1])\n",
      "CONCURSO: 0003 (POSIÇÃO: lista[2][3])\n"
     ]
    }
   ],
   "source": [
    "concursos = [\n",
    "    ['0001', '02', '05', '22', '26', '33', '40'],\n",
    "    ['0002', '12', '16', '34', '48', '50', '55'],\n",
    "    ['0003', '01', '10', '12', '26', '30', '33'],\n",
    "    ['0004', '20', '21', '26', '29', '50', '60'],\n",
    "    ['0005', '13', '15', '22', '29', '48', '49']\n",
    "]\n",
    "for resultados in concursos:\n",
    "    print(resultados)\n",
    "\n",
    "print('')\n",
    "\n",
    "procurar = input(\"NÚMERO A SER PROCURADO: \")\n",
    "\n",
    "#entrada.append(procurar)\n",
    "#print(entrada)\n",
    "\n",
    "print('')\n",
    "\n",
    "print('RETORNO:')\n",
    "\n",
    "v = 0\n",
    "\n",
    "for a in concursos:\n",
    "    local = concursos.index(a) # index de qual lista\n",
    "    for b in a:\n",
    "        if b == procurar:\n",
    "            v = 1\n",
    "            num_concurso = concursos[local][0]\n",
    "            local2 = concursos[local].index(b) # index da posição da lista\n",
    "            print(\"CONCURSO: {} (POSIÇÃO: lista[{}][{}])\".format(num_concurso, local,local2))\n",
    "            \n",
    "if v == 0:\n",
    "    print('NÚMERO NÃO ENCONTRADO')"
   ]
  }
 ],
 "metadata": {
  "kernelspec": {
   "display_name": "Python 3",
   "language": "python",
   "name": "python3"
  },
  "language_info": {
   "codemirror_mode": {
    "name": "ipython",
    "version": 3
   },
   "file_extension": ".py",
   "mimetype": "text/x-python",
   "name": "python",
   "nbconvert_exporter": "python",
   "pygments_lexer": "ipython3",
   "version": "3.8.8"
  }
 },
 "nbformat": 4,
 "nbformat_minor": 5
}
