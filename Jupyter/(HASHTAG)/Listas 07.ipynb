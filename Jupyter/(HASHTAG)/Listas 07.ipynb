{
 "cells": [
  {
   "cell_type": "markdown",
   "metadata": {},
   "source": [
    "# Print de Listas\n",
    "\n",
    "2 Opções:\n",
    "- print \"normal\"\n",
    "- método join -> texto.join(lista)"
   ]
  },
  {
   "cell_type": "code",
   "execution_count": null,
   "metadata": {},
   "outputs": [],
   "source": [
    "produtos = ['apple tv', 'mac', 'iphone x', 'iphone 11', 'IPad', 'apple watch', 'mac book', 'airpods']"
   ]
  },
  {
   "cell_type": "markdown",
   "metadata": {},
   "source": [
    "Lembrando do método split de strings:\n",
    "\n",
    "lista = texto.split(separador)"
   ]
  },
  {
   "cell_type": "code",
   "execution_count": 3,
   "metadata": {},
   "outputs": [],
   "source": [
    "produtos = 'apple tv, mac, iphone x, iphone 11, IPad, apple watch, mac book, airpods'"
   ]
  },
  {
   "cell_type": "code",
   "execution_count": 15,
   "metadata": {},
   "outputs": [
    {
     "name": "stdout",
     "output_type": "stream",
     "text": [
      "['10', '17', '23', '45', '56', '60']\n",
      "10 - 17 - 23 - 45 - 56 - 60\n",
      "10\n",
      "17\n",
      "23\n",
      "45\n",
      "56\n",
      "60\n"
     ]
    }
   ],
   "source": [
    "sorteio = ['60', '10', '56', '23', '17', '45']\n",
    "sorteio.sort()\n",
    "print(sorteio)\n",
    "print(' - '.join(sorteio))\n",
    "print('\\n'.join(sorteio))"
   ]
  },
  {
   "cell_type": "code",
   "execution_count": 1,
   "metadata": {},
   "outputs": [
    {
     "name": "stdout",
     "output_type": "stream",
     "text": [
      "60, 10, 56, 23, 17, 45\n",
      "['60', '10', '56', '23', '17', '45']\n",
      "['10', '17', '23', '45', '56', '60']\n",
      "10 - 17 - 23 - 45 - 56 - 60\n",
      "10\n",
      "17\n",
      "23\n",
      "45\n",
      "56\n",
      "60\n"
     ]
    }
   ],
   "source": [
    "sorteio = '60, 10, 56, 23, 17, 45'\n",
    "print(sorteio)\n",
    "lista = sorteio.split(', ')\n",
    "print(lista)\n",
    "lista.sort()\n",
    "print(lista)\n",
    "print(' - '.join(lista))\n",
    "print('\\n'.join(lista))"
   ]
  }
 ],
 "metadata": {
  "kernelspec": {
   "display_name": "Python 3 (ipykernel)",
   "language": "python",
   "name": "python3"
  },
  "language_info": {
   "codemirror_mode": {
    "name": "ipython",
    "version": 3
   },
   "file_extension": ".py",
   "mimetype": "text/x-python",
   "name": "python",
   "nbconvert_exporter": "python",
   "pygments_lexer": "ipython3",
   "version": "3.9.7"
  }
 },
 "nbformat": 4,
 "nbformat_minor": 4
}
