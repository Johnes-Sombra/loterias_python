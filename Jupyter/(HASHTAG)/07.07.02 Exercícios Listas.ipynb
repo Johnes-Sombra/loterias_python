{
 "cells": [
  {
   "cell_type": "markdown",
   "metadata": {},
   "source": [
    "# Exercícios\n",
    "\n",
    "## 1. Faturamento do Melhor e do Pior Mês do Ano\n",
    "\n",
    "Qual foi o valor de vendas do melhor mês do Ano?\n",
    "E valor do pior mês do ano?"
   ]
  },
  {
   "cell_type": "code",
   "execution_count": 99,
   "metadata": {},
   "outputs": [
    {
     "name": "stdout",
     "output_type": "stream",
     "text": [
      "MESES     : ['jan', 'fev', 'mar', 'abr', 'mai', 'jun', 'jul', 'ago', 'set', 'out', 'nov', 'dez']\n",
      "VENDAS MÊS: [25000, 29000, 22200, 17750, 15870, 19900, 19850, 20120, 17540, 15555, 49051, 9650]\n"
     ]
    }
   ],
   "source": [
    "meses = ['jan', 'fev', 'mar', 'abr', 'mai', 'jun', 'jul', 'ago', 'set', 'out', 'nov', 'dez']\n",
    "vendas_1sem = [25000, 29000, 22200, 17750, 15870, 19900]\n",
    "vendas_2sem = [19850, 20120, 17540, 15555, 49051, 9650]\n",
    "\n",
    "vendas_ano = []\n",
    "vendas_ano.extend(vendas_1sem)\n",
    "vendas_ano.extend(vendas_2sem)\n",
    "\n",
    "print('MESES     :', meses)\n",
    "print('VENDAS MÊS:', vendas_ano)"
   ]
  },
  {
   "cell_type": "markdown",
   "metadata": {},
   "source": [
    "## 2. Continuação\n",
    "\n",
    "Agora relacione as duas listas para printar 'O melhor mês do ano foi {} com {} vendas' e o mesmo para o pior mês do ano.\n",
    "\n",
    "Calcule também o faturamento total do Ano e quanto que o melhor mês representou do faturamento total.\n",
    "\n",
    "Obs: Para o faturamento total, pode usar a função sum(lista) que soma todos os itens de uma lista"
   ]
  },
  {
   "cell_type": "code",
   "execution_count": 107,
   "metadata": {},
   "outputs": [
    {
     "name": "stdout",
     "output_type": "stream",
     "text": [
      "MESES     : ['jan', 'fev', 'mar', 'abr', 'mai', 'jun', 'jul', 'ago', 'set', 'out', 'nov', 'dez']\n",
      "VENDAS MÊS: [25000, 29000, 22200, 17750, 15870, 19900, 19850, 20120, 17540, 15555, 49051, 9650] \n",
      "\n",
      "Faturamento total: 261486.\n",
      "Melhor mês: \"nov\". Valor: 49051 (18.8% do total de vendas).\n",
      "Pior mês: \"dez\". Valor: 9650 (3.7% do total de vendas).\n"
     ]
    }
   ],
   "source": [
    "vmax = max(vendas_ano)\n",
    "vmax_index = vendas_ano.index(vmax)\n",
    "vmax_mes = meses[vmax_index]\n",
    "\n",
    "vmin = min(vendas_ano)\n",
    "vmin_index = vendas_ano.index(vmin)\n",
    "vmin_mes = meses[vmin_index]\n",
    "\n",
    "fat_total = sum(vendas_ano)\n",
    "\n",
    "max_percent = vmax/fat_total\n",
    "min_percent = vmin/fat_total\n",
    "\n",
    "print('MESES     :', meses)\n",
    "print('VENDAS MÊS:', vendas_ano, '\\n')\n",
    "print('Faturamento total: {}.'.format(fat_total))\n",
    "print('Melhor mês: \"{}\". Valor: {} ({:.1%} do total de vendas).'.format(vmax_mes, vmax, max_percent))\n",
    "print('Pior mês: \"{}\". Valor: {} ({:.1%} do total de vendas).'.format(vmin_mes, vmin, min_percent))\n"
   ]
  },
  {
   "cell_type": "markdown",
   "metadata": {},
   "source": [
    "## 3. Crie uma lista com o top 3 valores de vendas do ano (sem fazer \"no olho\")\n",
    "\n",
    "Dica: o método remove retira um item da lista."
   ]
  },
  {
   "cell_type": "code",
   "execution_count": 108,
   "metadata": {},
   "outputs": [
    {
     "name": "stdout",
     "output_type": "stream",
     "text": [
      "MESES     : ['jan', 'fev', 'mar', 'abr', 'mai', 'jun', 'jul', 'ago', 'set', 'out', 'nov', 'dez']\n",
      "VENDAS MÊS: [25000, 29000, 22200, 17750, 15870, 19900, 19850, 20120, 17540, 15555, 49051, 9650] \n",
      "\n",
      "Top 3 mês: ['nov', 'fev', 'jan']\n",
      "Top 3 valor: [49051, 29000, 25000] \n",
      "\n",
      "1º LUGAR: \"nov\". Valor: 49051.\n",
      "2º LUGAR: \"fev\". Valor: 29000.\n",
      "3º LUGAR: \"jan\". Valor: 25000.\n"
     ]
    }
   ],
   "source": [
    "meses_aux = []\n",
    "vendas_ano_aux = []\n",
    "\n",
    "meses_aux.extend(meses)\n",
    "vendas_ano_aux.extend(vendas_ano)\n",
    "\n",
    "print('MESES     :', meses_aux)\n",
    "print('VENDAS MÊS:', vendas_ano_aux, '\\n')\n",
    "\n",
    "top3_valor = []\n",
    "top3_mês = []\n",
    "\n",
    "while len(top3_valor) < 3:\n",
    "    vmax_aux = max(vendas_ano_aux)\n",
    "    vmax_index_aux = vendas_ano_aux.index(vmax_aux)\n",
    "    vmax_mes_aux = meses_aux[vmax_index_aux]\n",
    "    top3_valor.append(vmax_aux)\n",
    "    top3_mês.append(vmax_mes_aux)\n",
    "    vendas_ano_aux.pop(vmax_index_aux)\n",
    "    meses_aux.pop(vmax_index_aux)\n",
    "\n",
    "\n",
    "print('Top 3 mês: {}'.format(top3_mês))\n",
    "print('Top 3 valor: {}'.format(top3_valor), '\\n')\n",
    "\n",
    "print('1º LUGAR: \"{}\". Valor: {}.'.format(top3_mês[0], top3_valor[0]))\n",
    "print('2º LUGAR: \"{}\". Valor: {}.'.format(top3_mês[1], top3_valor[1]))\n",
    "print('3º LUGAR: \"{}\". Valor: {}.'.format(top3_mês[2], top3_valor[2]))"
   ]
  },
  {
   "cell_type": "code",
   "execution_count": 109,
   "metadata": {},
   "outputs": [
    {
     "name": "stdout",
     "output_type": "stream",
     "text": [
      "MESES     : ['jan', 'fev', 'mar', 'abr', 'mai', 'jun', 'jul', 'ago', 'set', 'out', 'nov', 'dez']\n",
      "VENDAS MÊS: [25000, 29000, 22200, 17750, 15870, 19900, 19850, 20120, 17540, 15555, 49051, 9650] \n",
      "\n",
      "Top 3 mês: ['nov', 'fev', 'jan']\n",
      "Top 3 valor: [49051, 29000, 25000] \n",
      "\n",
      "1º LUGAR: \"nov\". Valor: 49051.\n",
      "2º LUGAR: \"fev\". Valor: 29000.\n",
      "3º LUGAR: \"jan\". Valor: 25000.\n"
     ]
    }
   ],
   "source": [
    "#usando copy pra copiar lista\n",
    "\n",
    "meses_aux = []\n",
    "vendas_ano_aux = []\n",
    "\n",
    "meses_aux = meses.copy()\n",
    "vendas_ano_aux = vendas_ano.copy()\n",
    "\n",
    "print('MESES     :', meses_aux)\n",
    "print('VENDAS MÊS:', vendas_ano_aux, '\\n')\n",
    "\n",
    "top3_valor = []\n",
    "top3_mês = []\n",
    "\n",
    "while len(top3_valor) < 3:\n",
    "    vmax_aux = max(vendas_ano_aux)\n",
    "    vmax_index_aux = vendas_ano_aux.index(vmax_aux)\n",
    "    vmax_mes_aux = meses_aux[vmax_index_aux]\n",
    "    top3_valor.append(vmax_aux)\n",
    "    top3_mês.append(vmax_mes_aux)\n",
    "    vendas_ano_aux.pop(vmax_index_aux)\n",
    "    meses_aux.pop(vmax_index_aux)\n",
    "\n",
    "\n",
    "print('Top 3 mês: {}'.format(top3_mês))\n",
    "print('Top 3 valor: {}'.format(top3_valor), '\\n')\n",
    "\n",
    "print('1º LUGAR: \"{}\". Valor: {}.'.format(top3_mês[0], top3_valor[0]))\n",
    "print('2º LUGAR: \"{}\". Valor: {}.'.format(top3_mês[1], top3_valor[1]))\n",
    "print('3º LUGAR: \"{}\". Valor: {}.'.format(top3_mês[2], top3_valor[2]))"
   ]
  }
 ],
 "metadata": {
  "kernelspec": {
   "display_name": "Python 3 (ipykernel)",
   "language": "python",
   "name": "python3"
  },
  "language_info": {
   "codemirror_mode": {
    "name": "ipython",
    "version": 3
   },
   "file_extension": ".py",
   "mimetype": "text/x-python",
   "name": "python",
   "nbconvert_exporter": "python",
   "pygments_lexer": "ipython3",
   "version": "3.9.7"
  }
 },
 "nbformat": 4,
 "nbformat_minor": 4
}
