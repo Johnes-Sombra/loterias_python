{
 "cells": [
  {
   "cell_type": "markdown",
   "metadata": {},
   "source": [
    "# Exercícios\n",
    "\n",
    "## 1. Criando um Registro de Hóspedes\n",
    "\n",
    "Digamos que você está criando o sistema para registrar a chegada de hóspedes em um hotel. No hotel, os hóspedes podem ter quartos com 1, 2, 3 e 4 pessoas. Seu sistema deve conseguir:\n",
    "\n",
    "1. Identificar quantas pessoas o hóspede que acabou de chegar vai ter no quarto (perguntando por meio de input)\n",
    "2. De acordo com a quantidade de pessoas do hóspede, ele deve fazer um for para perguntar o cpf e o nome de cada pessoa, a fim de registrá-la no quarto (2 inputs para cada pessoa, 1 para o cpf e outro para o nome)\n",
    "3. O seu programa então deve gerar uma lista com todas as pessoas que ficarão no quarto em que cada item dessa lista é o nome da pessoa e o cpf da pessoa, assim:"
   ]
  },
  {
   "cell_type": "raw",
   "metadata": {},
   "source": [
    "quarto = [\n",
    "    ['João', 'cpf:00000000000'],\n",
    "    ['Julia', 'cpf:11111111111'],\n",
    "    ['Marcus', 'cpf:22222222222'],\n",
    "    ['Maria', 'cpf:33333333333'],\n",
    "]"
   ]
  },
  {
   "cell_type": "markdown",
   "metadata": {},
   "source": [
    "- Para simplificar, não vamos nos preocupar com possibilidades de \"tentar colocar mais de 1 hóspede, digitar o cpf errado, etc. Nosso objetivo é treinar a criação de uma rotina de cadastro"
   ]
  },
  {
   "cell_type": "code",
   "execution_count": 34,
   "metadata": {},
   "outputs": [
    {
     "name": "stdout",
     "output_type": "stream",
     "text": [
      "Qtas pessoas?3\n",
      "Nome:p\n",
      "CPF:111\n",
      "Nome:j\n",
      "CPF:222\n",
      "Nome:k\n",
      "CPF:333\n",
      "[['p', '111'], ['j', '222'], ['k', '333']]\n"
     ]
    }
   ],
   "source": [
    "#seu código aqui\n",
    "\n",
    "quarto = []\n",
    "pessoa = []\n",
    "\n",
    "qtdade_pessoas = input ('Qtas pessoas?')\n",
    "\n",
    "for i in range(int(qtdade_pessoas)):\n",
    "    #print(i)\n",
    "    pessoa = []\n",
    "    pessoa.append(input ('Nome:'))\n",
    "    pessoa.append(input ('CPF:'))\n",
    "    quarto.append (pessoa)\n",
    "    \n",
    "print (quarto)\n",
    "    "
   ]
  },
  {
   "cell_type": "markdown",
   "metadata": {},
   "source": [
    "## 2. Análise de Vendas\n",
    "\n",
    "Nesse exercício vamos fazer uma \"análise simples\" de atingimento de Meta.\n",
    "\n",
    "Temos uma lista com os vendedores e os valores de vendas e queremos identificar (printar) quais os vendedores que bateram a meta e qual foi o valor que eles venderam."
   ]
  },
  {
   "cell_type": "code",
   "execution_count": 51,
   "metadata": {},
   "outputs": [
    {
     "name": "stdout",
     "output_type": "stream",
     "text": [
      "['João', 15000]\n",
      "['Julia', 27000]\n",
      "['Ana', 10300]\n"
     ]
    }
   ],
   "source": [
    "meta = 10000\n",
    "vendas = [\n",
    "    ['João', 15000],\n",
    "    ['Julia', 27000],\n",
    "    ['Marcus', 9900],\n",
    "    ['Maria', 3750],\n",
    "    ['Ana', 10300],\n",
    "    ['Alon', 7870],\n",
    "]\n",
    "#seu código aqui\n",
    "\n",
    "for vendedor in vendas:\n",
    "    if vendedor[1] >= meta:\n",
    "       print(vendedor)"
   ]
  },
  {
   "cell_type": "markdown",
   "metadata": {},
   "source": [
    "## 3. Comparação com Ano Anterior\n",
    "\n",
    "Digamos que você está analisando as vendas de produtos de um ecommerce e quer identificar quais produtos tiveram no ano de 2020 mais vendas do que no ano de 2019, para reportar isso para a diretoria.\n",
    "\n",
    "Sua resposta pode ser um print de cada produto, qual foi a venda de 2019, a venda de 2020 e o % de crescimento de 2020 para 2019.\n",
    "\n",
    "Lembrando, para calcular o % de crescimento de um produto de um ano para o outro, podemos fazer: (vendas_produto2020/vendas_produto2019 - 1)\n",
    "\n",
    "Dica: lembre do enumerate, ele pode facilitar seu \"for\""
   ]
  },
  {
   "cell_type": "code",
   "execution_count": 60,
   "metadata": {},
   "outputs": [
    {
     "name": "stdout",
     "output_type": "stream",
     "text": [
      "Produto: iphone \n",
      "Vendas 2019: R$558,147 \n",
      "Vendas 2020: R$951,642 \n",
      "Crescimento: 70.5%\n",
      "\n",
      "Produto: tv \n",
      "Vendas 2019: R$405,252 \n",
      "Vendas 2020: R$787,604 \n",
      "Crescimento: 94.3%\n",
      "\n",
      "Produto: máquina de café \n",
      "Vendas 2019: R$718,654 \n",
      "Vendas 2020: R$867,660 \n",
      "Crescimento: 20.7%\n",
      "\n",
      "Produto: notebook dell \n",
      "Vendas 2019: R$422,760 \n",
      "Vendas 2020: R$694,913 \n",
      "Crescimento: 64.4%\n",
      "\n",
      "Produto: notebook hp \n",
      "Vendas 2019: R$154,753 \n",
      "Vendas 2020: R$539,704 \n",
      "Crescimento: 248.8%\n",
      "\n",
      "Produto: microsoft surface \n",
      "Vendas 2019: R$438,508 \n",
      "Vendas 2020: R$667,179 \n",
      "Crescimento: 52.1%\n",
      "\n",
      "Produto: webcam \n",
      "Vendas 2019: R$237,467 \n",
      "Vendas 2020: R$295,633 \n",
      "Crescimento: 24.5%\n",
      "\n",
      "Produto: caixa de som \n",
      "Vendas 2019: R$489,705 \n",
      "Vendas 2020: R$725,316 \n",
      "Crescimento: 48.1%\n",
      "\n",
      "Produto: microfone \n",
      "Vendas 2019: R$328,311 \n",
      "Vendas 2020: R$644,622 \n",
      "Crescimento: 96.3%\n",
      "\n",
      "Produto: câmera canon \n",
      "Vendas 2019: R$591,120 \n",
      "Vendas 2020: R$994,303 \n",
      "Crescimento: 68.2%\n",
      "\n"
     ]
    }
   ],
   "source": [
    "produtos = ['iphone', 'galaxy', 'ipad', 'tv', 'máquina de café', 'kindle', 'geladeira', 'adega', 'notebook dell', 'notebook hp', 'notebook asus', 'microsoft surface', 'webcam', 'caixa de som', 'microfone', 'câmera canon']\n",
    "vendas2019 = [558147,712350,573823,405252,718654,531580,973139,892292,422760,154753,887061,438508,237467,489705,328311,591120]\n",
    "vendas2020 = [951642,244295,26964,787604,867660,78830,710331,646016,694913,539704,324831,667179,295633,725316,644622,994303]\n",
    "#seu código aqui\n",
    "\n",
    "for i, produto in enumerate(produtos):\n",
    "    if vendas2020[i] > vendas2019[i]:\n",
    "        crescimento = vendas2020[i] / vendas2019[i] - 1\n",
    "        print('Produto: {} \\nVendas 2019: R${:,} \\nVendas 2020: R${:,} \\nCrescimento: {:.1%}\\n'.format (produtos[i], vendas2019[i], vendas2020[i], crescimento))\n",
    "    \n",
    "\n",
    "\n"
   ]
  }
 ],
 "metadata": {
  "kernelspec": {
   "display_name": "Python 3",
   "language": "python",
   "name": "python3"
  },
  "language_info": {
   "codemirror_mode": {
    "name": "ipython",
    "version": 3
   },
   "file_extension": ".py",
   "mimetype": "text/x-python",
   "name": "python",
   "nbconvert_exporter": "python",
   "pygments_lexer": "ipython3",
   "version": "3.8.8"
  }
 },
 "nbformat": 4,
 "nbformat_minor": 4
}
