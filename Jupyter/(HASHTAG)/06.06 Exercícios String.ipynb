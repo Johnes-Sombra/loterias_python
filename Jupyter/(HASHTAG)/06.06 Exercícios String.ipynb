{
 "cells": [
  {
   "cell_type": "markdown",
   "metadata": {},
   "source": [
    "# Exercícios\n",
    "\n",
    "## 1. Cadastro de CPF\n",
    "\n",
    "Crie um programa para cadastro de CPF de clientes que recebe o CPF em um input box apenas com números.\n",
    "\n",
    "Ex: 'Insira seu CPF (digite apenas números)'\n",
    "\n",
    "Caso o usuário digite algo diferente de números ou digite menos de 11 caracteres (tamanho do CPF brasileiro), o programa deve exibir uma mensagem de \"Digite seu CPF corretamente e digite apenas números\""
   ]
  },
  {
   "cell_type": "code",
   "execution_count": 8,
   "metadata": {},
   "outputs": [
    {
     "name": "stdout",
     "output_type": "stream",
     "text": [
      "Insira seu CPF (digite apenas números)111.111.111-11\n",
      "Digite seu CPF corretamente e digite apenas números\n"
     ]
    }
   ],
   "source": [
    "cpf = input('Insira seu CPF (digite apenas números)')\n",
    "\n",
    "if len(cpf) == 11 and cpf.isnumeric():\n",
    "    print(cpf)\n",
    "else:\n",
    "    print('Digite seu CPF corretamente e digite apenas números')"
   ]
  },
  {
   "cell_type": "markdown",
   "metadata": {},
   "source": [
    "## 2. Melhorando nosso Cadastro de CPF\n",
    "\n",
    "Agora, além das validações anteriores, vamos criar um input que permita que o usuário insira pontos, traços e inclusive espaços vazios.\n",
    "\n",
    "Nosso programa deve \"tratar\" o que o usuário inserir para padronizar o CPF dele em apenas números.\n",
    "\n",
    "A verificação de tamanho do CPF com 11 caracteres continua válida, mas ela só deve ser feita depois de retirar todos os pontos, traços e espaços do CPF que o cliente inserir e, uma vez retirados pontos, traços e espaços, devem sobrar apenas números no CPF. Qualquer outro caractere deve ser considerado inválido.\n",
    "\n",
    "No final, nosso programa deve exibir uma mensagem para o usuário, caso ele tenha inserido o CPF inválido ou então apenas deve printar o CPF correto já só com número."
   ]
  },
  {
   "cell_type": "code",
   "execution_count": 16,
   "metadata": {},
   "outputs": [
    {
     "name": "stdout",
     "output_type": "stream",
     "text": [
      "Insira seu CPF: 111111111.11\n",
      "CPF digitado corretamente : 11111111111\n"
     ]
    }
   ],
   "source": [
    "cpf = input('Insira seu CPF: ')\n",
    "\n",
    "cpf_aux = cpf\n",
    "\n",
    "cpf = cpf.strip()\n",
    "cpf = cpf.replace('.', '')\n",
    "cpf = cpf.replace('-', '')\n",
    "\n",
    "if len(cpf) == 11 and cpf.isnumeric():\n",
    "    print('CPF digitado corretamente : {}'.format(cpf))\n",
    "else:\n",
    "    print('CPF digitado: {}'.format(cpf_aux))\n",
    "    print('Digite seu CPF corretamente e digite apenas números')"
   ]
  },
  {
   "cell_type": "markdown",
   "metadata": {},
   "source": [
    "## 3. Cadastro de e-mails\n",
    "\n",
    "- A Hashtag sempre se comunica com seus clientes por e-mail. Para isso, a gente tem em cada página um cadastro de nome e e-mail. Nesse cadastro, nosso sistema verifica se o e-mail que a pessoa inseriu é um e-mail válido, verificando se ele tem '@' e se depois do '@' tem algum ponto, afinal:\n",
    "\n",
    "- liragmail.com NÃO é um e-mail válido\n",
    "- lira@gmail NÃO é um e-mail válido\n",
    "- lira@gmail.com é um e-mail válido\n",
    "\n",
    "Crie um programa que permita o cadastro de nome e e-mail de uma pessoa (por meio de inputs) e que verifique:\n",
    "1. Se nome e e-mail foram preenchidos, caso contrário ele deve avisar para preencher todos os dados corretamente\n",
    "2. Se o e-mail contém '@' e se depois do '@' existe algum '.', caso contrário ele deve exibir uma mensagem de e-mail inválido\n",
    "\n",
    "Obs: Pode te ajudar lembrar do método .find da aula de Métodos de String. Você pode testar o que ele dá como resposta caso ele não encontre um item dentro da string"
   ]
  },
  {
   "cell_type": "code",
   "execution_count": 115,
   "metadata": {},
   "outputs": [
    {
     "name": "stdout",
     "output_type": "stream",
     "text": [
      "Nome                   : VAL\n",
      "Insira um e-mail válido: VAL@VAL.COM\n",
      "\n",
      "### VALIDAÇÕES ###\n",
      "\n",
      "NOME\n",
      "Tamanho do nome            : 3\n",
      "\n",
      "EMAIL\n",
      "E-mail                     : val@val.com\n",
      "Contagem arroba            : 1\n",
      "Caracter especial          : NÃO\n",
      "\"& = _ , - + , < > / ; $ %\"\n",
      "Posição da arroba          : 3\n",
      "Servidor após arroba       : val.com\n",
      "Posição ponto servidor     : 3\n",
      "Valor após ponto servidor  : com\n",
      "Tamanho após ponto servidor: 3\n",
      "\n",
      "Dados inseridos.\n"
     ]
    }
   ],
   "source": [
    "nome = input ('Nome                   : ')\n",
    "email = input ('Insira um e-mail válido: ')\n",
    "email = email.lower()\n",
    "print('')\n",
    "\n",
    "print('### VALIDAÇÕES ###')\n",
    "print('')\n",
    "\n",
    "print('NOME')\n",
    "print('Tamanho do nome            : {}'.format(len(nome)))\n",
    "print('')\n",
    "\n",
    "print('EMAIL')\n",
    "print('E-mail                     : {}'.format(email))\n",
    "print('Contagem arroba            : {}'.format(email.count('@')))\n",
    "\n",
    "#if ('&', '=', \"_\", \"-\", \"+\", \",\", \"<\", \">\", \"/\"  in email):\n",
    "if ('&' in email) or ('=' in email) or (\"_\" in email) or (\"-\" in email) or (\"+\" in email) or (\",\" in email) or (\"<\" in email) or (\">\" in email) or (\"/\"  in email) or (\";\"  in email) or (\"$\"  in email)  or (\"%\"  in email):\n",
    "    valida_car_esp = True\n",
    "    #print('Caracter especial \"& = _ , - + , < > / ; $ %\" : SIM')\n",
    "    print('Caracter especial          : SIM')\n",
    "    print('\"& = _ , - + , < > / ; $ %\"')\n",
    "else:\n",
    "    valida_car_esp = False\n",
    "    #print('Caracter especial \"& = _ , - + , < > / ; $ %\" : NÃO')\n",
    "    print('Caracter especial          : NÃO')\n",
    "    print('\"& = _ , - + , < > / ; $ %\"')\n",
    "\n",
    "\n",
    "email_posi_arroba = email.find('@')\n",
    "print('Posição da arroba          : {}'.format(email_posi_arroba))\n",
    "\n",
    "email_servidor = email[(email_posi_arroba + 1):]\n",
    "print('Servidor após arroba       : {}'.format(email_servidor))\n",
    "\n",
    "email_posi_ponto_servidor = email_servidor.find('.')\n",
    "print('Posição ponto servidor     : {}'.format(email_posi_ponto_servidor))\n",
    "\n",
    "email_apos_ponto_servidor = email_servidor[(email_posi_ponto_servidor + 1):]\n",
    "print('Valor após ponto servidor  : {}'.format(email_apos_ponto_servidor))\n",
    "print('Tamanho após ponto servidor: {}'.format(len(email_apos_ponto_servidor)))\n",
    "print('')\n",
    "\n",
    "if (len(nome) >= 2) and (len(email) > 0) and (email.count('@') == 1) and (email_posi_arroba != -1) and (email_posi_ponto_servidor != -1) and (len(email_apos_ponto_servidor) >= 2) and (valida_car_esp == False):\n",
    "    print('Dados inseridos.')\n",
    "else:\n",
    "    print('### ATENÇÃO ### Favor inserir os dados corretamente!')"
   ]
  },
  {
   "cell_type": "code",
   "execution_count": null,
   "metadata": {},
   "outputs": [],
   "source": []
  }
 ],
 "metadata": {
  "kernelspec": {
   "display_name": "Python 3 (ipykernel)",
   "language": "python",
   "name": "python3"
  },
  "language_info": {
   "codemirror_mode": {
    "name": "ipython",
    "version": 3
   },
   "file_extension": ".py",
   "mimetype": "text/x-python",
   "name": "python",
   "nbconvert_exporter": "python",
   "pygments_lexer": "ipython3",
   "version": "3.9.7"
  }
 },
 "nbformat": 4,
 "nbformat_minor": 4
}
