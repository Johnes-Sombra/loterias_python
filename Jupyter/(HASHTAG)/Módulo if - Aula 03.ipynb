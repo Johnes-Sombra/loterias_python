{
 "cells": [
  {
   "cell_type": "markdown",
   "metadata": {},
   "source": [
    "# elif\n",
    "\n",
    "E se temos mais do que um caso de sim e não?\n",
    "\n",
    "E se tivermos 3 casos?\n",
    "\n",
    "Usamos o elif da seguinte forma:"
   ]
  },
  {
   "cell_type": "raw",
   "metadata": {},
   "source": [
    "if condição:\n",
    "    o que fazer se a condição 1 for verdadeira\n",
    "elif condição_2:\n",
    "    o que fazer se a condição 1 for falsa e a condição 2 for verdadeira\n",
    "else:\n",
    "    o que fazer se a condição 1 e a condição 2 forem falsas"
   ]
  },
  {
   "cell_type": "markdown",
   "metadata": {},
   "source": [
    "### Exemplo:\n",
    "\n",
    "Vamos criar um programa para analisar o bônus dos funcionários de uma empresa (pode parecer \"simples\", mas uma empresa como a Amazon tem 900.000 funcionários)\n",
    "\n",
    "Para os cargos de vendedores, a regra do bônus é de acordo com a meta de vendas da pessoa:\n",
    "\n",
    "Se ela vendeu abaixo da meta dela, ela não ganha bônus.\n",
    "\n",
    "Se ela vendeu acima da meta dela, ela ganha como bônus 3% do valor que ela vendeu.\n",
    "\n",
    "Se ela vendeu mais do que o dobro da meta dela, ela ganha como bônus 7% do valor que ela vendeu.\n",
    "\n",
    "Vamos criar um programa para avaliar uma pessoa que tinha como meta de vendas 20.000 reais e calcular o bônus dela de acordo com o valor de vendas que ela tiver."
   ]
  },
  {
   "cell_type": "code",
   "execution_count": 22,
   "metadata": {},
   "outputs": [
    {
     "name": "stdout",
     "output_type": "stream",
     "text": [
      "       Meta do mês: R$20000\n",
      " Super Meta do mês: R$40000\n",
      "Quantidade vendida: R$25000\n",
      "\n",
      "Parabéns! Meta batida! Superou em R$5000\n",
      "Bônus 1: R$750.0\n"
     ]
    }
   ],
   "source": [
    "meta = 20000\n",
    "super_meta = meta * 2\n",
    "qtd_vend_mes = 25000\n",
    "bonus1 = qtd_vend_mes * 0.03\n",
    "bonus2 = qtd_vend_mes * 0.07\n",
    "verificador_bonus2 = 0;\n",
    "\n",
    "if qtd_vend_mes >= super_meta:\n",
    "    verificador_bonus2 = 1\n",
    "\n",
    "print('       Meta do mês: R${}'.format(meta))\n",
    "print(' Super Meta do mês: R${}'.format(super_meta))\n",
    "print('Quantidade vendida: R${}'.format(qtd_vend_mes))\n",
    "print('')\n",
    "\n",
    "if qtd_vend_mes < meta:\n",
    "    print('Que pena! Meta não foi alcançada! Faltaram R${}'.format(meta - qtd_vend_mes))\n",
    "    print('Bônus: 0')\n",
    "\n",
    "elif qtd_vend_mes > meta:\n",
    "    if verificador_bonus2 == 0:\n",
    "        print('Parabéns! Meta batida! Superou em R${}'.format(qtd_vend_mes - meta))\n",
    "        print('Bônus 1: R${}'.format(bonus1))\n",
    "    elif verificador_bonus2 == 1:\n",
    "        print('Parabéns! Super Meta batida! Superou em R${}'.format(qtd_vend_mes - meta))\n",
    "        print('Bônus 2: R${}'.format(bonus2))\n",
    "\n"
   ]
  },
  {
   "cell_type": "code",
   "execution_count": null,
   "metadata": {},
   "outputs": [],
   "source": []
  }
 ],
 "metadata": {
  "kernelspec": {
   "display_name": "Python 3 (ipykernel)",
   "language": "python",
   "name": "python3"
  },
  "language_info": {
   "codemirror_mode": {
    "name": "ipython",
    "version": 3
   },
   "file_extension": ".py",
   "mimetype": "text/x-python",
   "name": "python",
   "nbconvert_exporter": "python",
   "pygments_lexer": "ipython3",
   "version": "3.9.7"
  }
 },
 "nbformat": 4,
 "nbformat_minor": 4
}
