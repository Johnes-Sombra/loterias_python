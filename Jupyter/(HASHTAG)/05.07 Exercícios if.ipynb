{
 "cells": [
  {
   "cell_type": "markdown",
   "metadata": {},
   "source": [
    "# Exercícios"
   ]
  },
  {
   "cell_type": "markdown",
   "metadata": {},
   "source": [
    "## 1. Criando um mini sistema de controle de estoque\n",
    "\n",
    "- Crie um sistema para ser usado pelo time de controle de estoque de um centro de distribuição.\n",
    "- Imagine que ao fim de todo dia, o time conta quantas unidades de produto existem no estoque. Se tivermos um estoque abaixo do estoque permitido para aquela categoria do produto, o time deve ser avisado (print) para fazer um novo pedido daquele produto.\n",
    "- Cada categoria de produto tem um estoque mínimo diferente, segundo a regra abaixo:\n",
    "\n",
    "- alimentos -> Estoque mínimo: 50\n",
    "- bebidas -> Estoque mínimo: 75\n",
    "- limpeza -> Estoque mínimo: 30\n",
    "\n",
    "Para isso vamos criar um programa que pede 3 inputs do usuário: nome do produto, categoria e quantidade atual em estoque.\n",
    "\n",
    "Se o produto tiver abaixo do estoque mínimo da categoria dele, o programa deve printar a mensagem \"Solicitar {produto} à equipe de compras, temos apenas {unidades} em estoque\"\n",
    "\n",
    "Exemplo: Se o usuário preenche os inputs com: bebidas, dolly, 90, o programa não deve exibir nenhuma mensagem.<br>\n",
    "Agora, se o usuário preenche os inputs com: bebidas, guaraná, 60, o programa deve exibir a mensagem \"Solicitar guaraná à equipe de compras, temos apenas 60 unidades em estoque.\n",
    "\n",
    "Obs: lembre de usar o int() para transformar o número inserido pelo usuário no input de string para int.<br>\n",
    "Obs2: Caso o usuário não preencha alguma das 3 informações, o programa deve exibir uma mensagem para avisá-lo de preencher corretamente."
   ]
  },
  {
   "cell_type": "code",
   "execution_count": 84,
   "metadata": {},
   "outputs": [
    {
     "name": "stdout",
     "output_type": "stream",
     "text": [
      "Digite o nome do produto: pasta\n",
      "Digite a categoria do produto (alimentos/bebidas/limpeza): alimentos\n",
      "Digite a qtdade: 3\n",
      "\n",
      "Produto cadastrado com sucesso.\n",
      "\n",
      "Descrição     : pasta\n",
      "Categoria     : alimentos\n",
      "Qtdade        : 3\n",
      "Estoque mínimo: 50\n",
      "\n",
      "Solicitar mais pasta à equipe de compras. Qtdade faltante: 47\n"
     ]
    }
   ],
   "source": [
    "#seu código aqui\n",
    "\n",
    "nome_produto = input ('Digite o nome do produto: ')\n",
    "categoria = input ('Digite a categoria do produto (alimentos/bebidas/limpeza): ')\n",
    "qtd_estoque = input ('Digite a qtdade: ')\n",
    "print('')\n",
    "\n",
    "alimentos_min = 50\n",
    "bebidas_min = 75\n",
    "limpeza_min = 30\n",
    "\n",
    "#variáveis de controle\n",
    "fantante = 0\n",
    "controle_vazio = 0\n",
    "\n",
    "if nome_produto:\n",
    "    controle_vazio = controle_vazio + 1\n",
    "if categoria and (categoria == 'alimentos' or categoria == 'bebidas' or categoria == 'limpeza'):\n",
    "    controle_vazio = controle_vazio + 1\n",
    "if qtd_estoque and qtd_estoque.isdigit():\n",
    "    qtd_estoque = int(qtd_estoque)\n",
    "    controle_vazio = controle_vazio + 1\n",
    "\n",
    "if controle_vazio == 3:\n",
    "    print('Produto cadastrado com sucesso.')\n",
    "    print('')\n",
    "    print('Descrição     : {}'. format(nome_produto))\n",
    "    print('Categoria     : {}'.format(categoria))\n",
    "    print('Qtdade        : {}'.format(qtd_estoque))\n",
    "    if categoria == 'alimentos':\n",
    "        fantante = alimentos_min - qtd_estoque\n",
    "        print('Estoque mínimo: {}'.format(alimentos_min))\n",
    "    if categoria == 'bebidas':\n",
    "        fantante = bebidas_min - qtd_estoque\n",
    "        print('Estoque mínimo: {}'.format(bebidas_min))\n",
    "    if categoria == 'limpeza':\n",
    "        fantante = limpeza_min - qtd_estoque\n",
    "        print('Estoque mínimo: {}'.format(limpeza_min))\n",
    "    print('')\n",
    "    \n",
    "    if (categoria == 'alimentos' and qtd_estoque >= alimentos_min) or (categoria == 'bebidas' and qtd_estoque >= bebidas_min) or (categoria == 'limpeza' and qtd_estoque >= limpeza_min):\n",
    "        pass\n",
    "    else:\n",
    "        print('Solicitar mais {} à equipe de compras. Qtdade faltante: {}'.format(nome_produto, fantante))\n",
    "\n",
    "else:\n",
    "#    print(controle_vazio)\n",
    "#    print(type(qtd_estoque))\n",
    "    print('Alguma informação não foi preenchida corretamente. Verifique!')\n",
    "\n"
   ]
  }
 ],
 "metadata": {
  "kernelspec": {
   "display_name": "Python 3 (ipykernel)",
   "language": "python",
   "name": "python3"
  },
  "language_info": {
   "codemirror_mode": {
    "name": "ipython",
    "version": 3
   },
   "file_extension": ".py",
   "mimetype": "text/x-python",
   "name": "python",
   "nbconvert_exporter": "python",
   "pygments_lexer": "ipython3",
   "version": "3.9.7"
  }
 },
 "nbformat": 4,
 "nbformat_minor": 4
}
