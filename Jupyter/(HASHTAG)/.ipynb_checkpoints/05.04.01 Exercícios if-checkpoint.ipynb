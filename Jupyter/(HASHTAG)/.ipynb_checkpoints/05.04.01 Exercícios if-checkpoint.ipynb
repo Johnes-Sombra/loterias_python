{
 "cells": [
  {
   "cell_type": "markdown",
   "metadata": {},
   "source": [
    "# Exercícios com if"
   ]
  },
  {
   "cell_type": "markdown",
   "metadata": {},
   "source": [
    "## 1. Cálculo de Bônus\n",
    "\n",
    "- Crie um programa que calcule e dê um print no bônus que os funcionários devem receber segundo a regra:\n",
    "\n",
    "A meta é 1000 vendas.<br> \n",
    "Se o valor de vendas for maior ou igual a meta, o valor do bônus do funcionário é 10% do valor de vendas.<br>\n",
    "Caso contrário o valor de bônus do funcionário é 0.<br>\n",
    "Print o bônus dos 3 funcionários"
   ]
  },
  {
   "cell_type": "code",
   "execution_count": null,
   "metadata": {},
   "outputs": [],
   "source": [
    "vendas_funcionario1 = 1000\n",
    "vendas_funcionario2 = 770\n",
    "vendas_funcionario3 = 2700\n",
    "\n",
    "#crie seu código aqui\n",
    "\n",
    "bonus1 = qtd_vend_mes * 0.03\n",
    "bonus2 = qtd_vend_mes * 0.07\n",
    "verificador_bonus2 = 0;\n",
    "\n",
    "if qtd_vend_mes >= super_meta:\n",
    "    verificador_bonus2 = 1\n",
    "\n",
    "print('       Meta do mês: R${}'.format(meta))\n",
    "print(' Super Meta do mês: R${}'.format(super_meta))\n",
    "print('Quantidade vendida: R${}'.format(qtd_vend_mes))\n",
    "print('')\n",
    "\n",
    "if qtd_vend_mes < meta:\n",
    "    print('Que pena! Meta não foi alcançada! Faltaram R${}'.format(meta - qtd_vend_mes))\n",
    "    print('Bônus: 0')\n",
    "\n",
    "elif qtd_vend_mes > meta:\n",
    "    if verificador_bonus2 == 0:\n",
    "        print('Parabéns! Meta batida! Superou em R${}'.format(qtd_vend_mes - meta))\n",
    "        print('Bônus 1: R${}'.format(bonus1))\n",
    "    elif verificador_bonus2 == 1:\n",
    "        print('Parabéns! Super Meta batida! Superou em R${}'.format(qtd_vend_mes - meta))\n",
    "        print('Bônus 2: R${}'.format(bonus2))"
   ]
  },
  {
   "cell_type": "raw",
   "metadata": {},
   "source": [
    "Resposta:\n",
    "O funcionário 1 ganhou 100 de bônus\n",
    "O funcionário 2 ganhou 0 de bônus\n",
    "O funcionário 3 ganhou 270 de bônus"
   ]
  },
  {
   "cell_type": "markdown",
   "metadata": {},
   "source": [
    "## 2. Cálculo de bônus com uma nova regra\n",
    "\n",
    "- Agora, crie um novo código que calcule e dê um print no bônus dos funcionários novamente. Porém há uma nova regra nesse 2º caso:\n",
    "\n",
    "A meta é 1000 vendas<br>\n",
    "Agora, os funcionários que venderem muito acima da meta ganham mais bônus do que os outros. Então o bônus é definido da seguinte forma:<br>\n",
    "\n",
    "- Se vendas funcionário for maior ou igual a 2000, então o bônus é de 15% sobre o valor de vendas\n",
    "- Se vendas funcionário for menor do que 2000 e maior ou igual a 1000, então o bônus é de 10% sobre o valor de vendas\n",
    "- Se vendas funcionário for menos do que 1000 então o bônus do funcionário é de 0.\n",
    "\n",
    "Use as mesmas variáveis de vendas_funcionários"
   ]
  },
  {
   "cell_type": "code",
   "execution_count": null,
   "metadata": {},
   "outputs": [],
   "source": [
    "#crie seu código aqui\n",
    "#obs: há 2 formas de fazer, com if dentro de if ou então com if e elif. Escolha a que você preferir"
   ]
  },
  {
   "cell_type": "raw",
   "metadata": {},
   "source": [
    "Resposta:\n",
    "O funcionário 1 ganhou 100 de bônus\n",
    "O funcionário 2 ganhou 0 de bônus\n",
    "O funcionário 3 ganhou 405 de bônus"
   ]
  }
 ],
 "metadata": {
  "kernelspec": {
   "display_name": "Python 3 (ipykernel)",
   "language": "python",
   "name": "python3"
  },
  "language_info": {
   "codemirror_mode": {
    "name": "ipython",
    "version": 3
   },
   "file_extension": ".py",
   "mimetype": "text/x-python",
   "name": "python",
   "nbconvert_exporter": "python",
   "pygments_lexer": "ipython3",
   "version": "3.9.7"
  }
 },
 "nbformat": 4,
 "nbformat_minor": 4
}
