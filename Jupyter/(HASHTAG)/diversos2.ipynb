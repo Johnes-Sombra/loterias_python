{
 "cells": [
  {
   "cell_type": "code",
   "execution_count": 33,
   "id": "94449b0a",
   "metadata": {
    "scrolled": true
   },
   "outputs": [
    {
     "name": "stdout",
     "output_type": "stream",
     "text": [
      "2580: 01 05 07 08 10 11 12 13 14 15 16 18 20 22 25 \n",
      "2579: 01 03 04 07 08 10 12 15 16 17 18 19 22 23 25 \n",
      "2578: 01 02 03 04 07 08 09 10 12 14 15 16 20 22 25 \n",
      "2577: 01 04 06 07 08 09 12 13 14 18 20 21 23 24 25 \n",
      "2576: 01 02 05 06 07 10 13 15 16 18 19 20 21 24 25 \n",
      "\n",
      "Concurso: 2579\n",
      "2579: 01 03 04 07 08 10 12 15 16 17 18 19 22 23 25 \n",
      "dict_values([['01', '05', '07', '08', '10', '11', '12', '13', '14', '15', '16', '18', '20', '22', '25'], ['01', '03', '04', '07', '08', '10', '12', '15', '16', '17', '18', '19', '22', '23', '25'], ['01', '02', '03', '04', '07', '08', '09', '10', '12', '14', '15', '16', '20', '22', '25'], ['01', '04', '06', '07', '08', '09', '12', '13', '14', '18', '20', '21', '23', '24', '25'], ['01', '02', '05', '06', '07', '10', '13', '15', '16', '18', '19', '20', '21', '24', '25']])\n"
     ]
    }
   ],
   "source": [
    "lotofacil = {\n",
    "'2580': ['01','05','07','08','10','11','12','13','14','15','16','18','20','22','25'],\n",
    "'2579': ['01','03','04','07','08','10','12','15','16','17','18','19','22','23','25'],\n",
    "'2578': ['01','02','03','04','07','08','09','10','12','14','15','16','20','22','25'],\n",
    "'2577': ['01','04','06','07','08','09','12','13','14','18','20','21','23','24','25'],\n",
    "'2576': ['01','02','05','06','07','10','13','15','16','18','19','20','21','24','25'],\n",
    "}\n",
    "\n",
    "for concurso in lotofacil:\n",
    "    #print('Concurso {}: {}'.format(concurso, lotofacil[concurso]))\n",
    "    print (concurso, end=': ')\n",
    "    for bola in (lotofacil[concurso]):\n",
    "        print (bola, end=' ')\n",
    "    print('')\n",
    "\n",
    "print('')\n",
    "con = input('Concurso: ')\n",
    "print (con, end=': ')\n",
    "for bola in (lotofacil[con]):\n",
    "    print (bola, end=' ')\n",
    "\n",
    "print('')\n",
    "print(lotofacil.values())"
   ]
  },
  {
   "cell_type": "code",
   "execution_count": 39,
   "id": "ade7b141",
   "metadata": {},
   "outputs": [
    {
     "name": "stdout",
     "output_type": "stream",
     "text": [
      "1\n",
      "0.5\n",
      "2\n",
      "1.0\n",
      "3\n",
      "1.5\n",
      "4\n",
      "2.0\n",
      "5\n",
      "2.5\n",
      "6\n",
      "3.0\n",
      "7\n",
      "3.5\n",
      "8\n",
      "4.0\n",
      "9\n",
      "4.5\n",
      "10\n",
      "5.0\n"
     ]
    }
   ],
   "source": [
    "for i in range(1,11):\n",
    "    c = i/2\n",
    "    print(i)\n",
    "    print(c)"
   ]
  },
  {
   "cell_type": "code",
   "execution_count": 48,
   "id": "8976e0af",
   "metadata": {},
   "outputs": [
    {
     "name": "stdout",
     "output_type": "stream",
     "text": [
      "numero a: 5\n",
      "numero b: 6\n",
      "11\n"
     ]
    }
   ],
   "source": [
    "def somar(a, b):\n",
    "    soma = a + b\n",
    "    return soma\n",
    "\n",
    "numeroa = input('numero a: ')\n",
    "numerob = input('numero b: ')\n",
    "\n",
    "somatorio = somar(int(numeroa), int(numerob))\n",
    "print(somatorio)\n",
    "\n",
    "somar()"
   ]
  },
  {
   "cell_type": "code",
   "execution_count": 88,
   "id": "96789f6f",
   "metadata": {},
   "outputs": [
    {
     "name": "stdout",
     "output_type": "stream",
     "text": [
      "servidor de e-mail: yahoo.com.br\n"
     ]
    },
    {
     "data": {
      "text/plain": [
       "['teste@yahoo.com.br']"
      ]
     },
     "execution_count": 88,
     "metadata": {},
     "output_type": "execute_result"
    }
   ],
   "source": [
    "lista_emails = ['ze@gmail.com', 'dadinho@hotmail.com', 'silva@bol.com', 'jaws@yahoo.com', 'josue@gmail.com', 'teste@yahoo.com.br']\n",
    "\n",
    "def verificar_serv_email(lista_emails, email):\n",
    "    lista = []\n",
    "    for i, item in enumerate(lista_emails):\n",
    "        if email in lista_emails[i]:\n",
    "            lista.append(item)\n",
    "    return lista\n",
    "\n",
    "email = input('servidor de e-mail: ')\n",
    "verificar_serv_email(lista_emails, email)"
   ]
  },
  {
   "cell_type": "code",
   "execution_count": 92,
   "id": "f8d9875d",
   "metadata": {},
   "outputs": [
    {
     "name": "stdout",
     "output_type": "stream",
     "text": [
      "1659103911.2445745\n",
      "Fri Jul 29 11:11:51 2022\n"
     ]
    }
   ],
   "source": [
    "import time\n",
    "\n",
    "print(time.time())\n",
    "print(time.ctime())"
   ]
  },
  {
   "cell_type": "code",
   "execution_count": 98,
   "id": "7a8e4ff0",
   "metadata": {},
   "outputs": [
    {
     "name": "stdout",
     "output_type": "stream",
     "text": [
      "Counter({'01': 5, '07': 5, '25': 5, '08': 4, '10': 4, '12': 4, '15': 4, '16': 4, '18': 4, '20': 4, '13': 3, '14': 3, '22': 3, '04': 3, '05': 2, '03': 2, '19': 2, '23': 2, '02': 2, '09': 2, '06': 2, '21': 2, '24': 2, '11': 1, '17': 1})\n"
     ]
    }
   ],
   "source": [
    "from collections import Counter\n",
    "\n",
    "lotofacil = [\n",
    "'01','05','07','08','10','11','12','13','14','15','16','18','20','22','25',\n",
    "'01','03','04','07','08','10','12','15','16','17','18','19','22','23','25',\n",
    "'01','02','03','04','07','08','09','10','12','14','15','16','20','22','25',\n",
    "'01','04','06','07','08','09','12','13','14','18','20','21','23','24','25',\n",
    "'01','02','05','06','07','10','13','15','16','18','19','20','21','24','25',\n",
    "]\n",
    "\n",
    "num_mais_sort = Counter(lotofacil)\n",
    "print(num_mais_sort)"
   ]
  },
  {
   "cell_type": "code",
   "execution_count": 257,
   "id": "a2c50948",
   "metadata": {},
   "outputs": [
    {
     "name": "stdout",
     "output_type": "stream",
     "text": [
      "('ESCAPE FROM NY', 1981, 1997)\n",
      "('FREEJACK', 1992, 2009)\n",
      "('THE POSTMAN', 1997, 2013)\n",
      "('BTTF 2', 1985, 2015)\n",
      "('CHILDREN OF MEN', 2006, 2027)\n",
      "('T2', 1991, 2029)\n",
      "('DEMOLITION MAN', 1993, 2032)\n",
      "('MATRIX', 1999, 2199)\n",
      "('THE FIFTH ELEMENT', 1997, 2263)\n"
     ]
    },
    {
     "data": {
      "image/png": "[encoded data removed]",
      "text/plain": [
       "<Figure size 432x288 with 1 Axes>"
      ]
     },
     "metadata": {
      "needs_background": "light"
     },
     "output_type": "display_data"
    }
   ],
   "source": [
    "import matplotlib.pyplot as plt\n",
    "\n",
    "ex = [\n",
    "    #(0,0,0),\n",
    "    #(0,0,0),\n",
    "    #(0,0,0),\n",
    "    #(0,0,0),\n",
    "    ('ESCAPE FROM NY', 1981, 1997),\n",
    "    ('CHILDREN OF MEN', 2006, 2027),\n",
    "    ('T2', 1991, 2029),\n",
    "    ('THE POSTMAN', 1997, 2013),\n",
    "    ('BTTF 2', 1985, 2015),\n",
    "    ('MATRIX', 1999, 2199),\n",
    "    ('FREEJACK', 1992, 2009),\n",
    "    ('THE FIFTH ELEMENT', 1997, 2263),\n",
    "    ('DEMOLITION MAN', 1993, 2032)]\n",
    "ey = [1, 1]\n",
    "ex.sort(key = lambda x: x[2])\n",
    "\n",
    "for f in ex:\n",
    "    print(f)\n",
    "\n",
    "#print(ex)\n",
    "for a in ex:\n",
    "    plt.plot((a[1], a[2]), ey, color='green', marker='s', linestyle=(0, (1, 0)), linewidth=11, markersize=10)\n",
    "    plt.axis([1900, 2500, 20, 0])\n",
    "    ey[0]+=1\n",
    "    ey[1]+=1\n",
    "    plt.plot((a[1], a[2]), ey, color='white', marker='s', linestyle=(0, (1, 0)), linewidth=1, markersize=5)\n",
    "    ey[0]+=1\n",
    "    ey[1]+=1\n",
    "plt.title('FUTURISTIC MOVIE TIMELINE')\n",
    "plt.xlabel('ANOS')\n",
    "plt.show()"
   ]
  }
 ],
 "metadata": {
  "kernelspec": {
   "display_name": "Python 3",
   "language": "python",
   "name": "python3"
  },
  "language_info": {
   "codemirror_mode": {
    "name": "ipython",
    "version": 3
   },
   "file_extension": ".py",
   "mimetype": "text/x-python",
   "name": "python",
   "nbconvert_exporter": "python",
   "pygments_lexer": "ipython3",
   "version": "3.8.8"
  }
 },
 "nbformat": 4,
 "nbformat_minor": 5
}
